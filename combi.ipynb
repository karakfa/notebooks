{
 "cells": [
  {
   "cell_type": "code",
   "execution_count": 32,
   "metadata": {
    "collapsed": false
   },
   "outputs": [
    {
     "name": "stdout",
     "output_type": "stream",
     "text": [
      "0 (0, 0) (0, 0)\n",
      "1 (1, 1) (1, 1)\n",
      "2 (2, 1) (2, 1)\n",
      "3 (2, 2) (2, 2)\n",
      "4 (3, 1) (2, 3)\n",
      "5 (3, 2) (3, 2)\n",
      "6 (3, 3) (3, 3)\n",
      "7 (4, 1) (3, 4)\n",
      "8 (4, 2) (4, 2)\n",
      "9 (4, 3) (4, 3)\n"
     ]
    }
   ],
   "source": [
    "import math\n",
    "\n",
    "def combi_1(k):  # for one-based indexing\n",
    "    n=math.ceil((math.sqrt(1+8*k)-1)/2)\n",
    "    m=int(k-n*(n-1)/2)\n",
    "    return (n,m)\n",
    "\n",
    "def combi_0(k):  # for zero-based indexing and eliminating diagonal entries\n",
    "    n=int(math.sqrt(1+8*k)/2+0.5)\n",
    "    m=int(k-n*(n-1)/2)\n",
    "    return (n,m)\n",
    "\n",
    "def combi_2(k):  # simplification of the formula\n",
    "    n=math.floor(math.sqrt(2*k))\n",
    "    m=int(k-n*(n-1)/2)\n",
    "    return (n,m)\n",
    "\n",
    "for i in range(10):\n",
    "    print(i,combi_1(i),combi_2(i))\n"
   ]
  },
  {
   "cell_type": "code",
   "execution_count": null,
   "metadata": {
    "collapsed": true
   },
   "outputs": [],
   "source": []
  }
 ],
 "metadata": {
  "kernelspec": {
   "display_name": "Python 3",
   "language": "python",
   "name": "python3"
  },
  "language_info": {
   "codemirror_mode": {
    "name": "ipython",
    "version": 3
   },
   "file_extension": ".py",
   "mimetype": "text/x-python",
   "name": "python",
   "nbconvert_exporter": "python",
   "pygments_lexer": "ipython3",
   "version": "3.5.1"
  }
 },
 "nbformat": 4,
 "nbformat_minor": 0
}
