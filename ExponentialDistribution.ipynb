{
 "cells": [
  {
   "cell_type": "markdown",
   "metadata": {
    "collapsed": true
   },
   "source": [
    "Assume we are observing a series of trials where an event happening with probability $p$ and we are interested the number of instances that event happens.  We can write this compactly in binomial distribution formulation, out of $n$ trials, event happens exactly $k$ times regardless of the order."
   ]
  },
  {
   "cell_type": "markdown",
   "metadata": {},
   "source": [
    "\\begin{align}\n",
    "P(\\#=k) & = {n \\choose k} p^k (1-p)^{n-k} \\\\\n",
    "\\end{align}"
   ]
  },
  {
   "cell_type": "markdown",
   "metadata": {
    "collapsed": true
   },
   "source": [
    "For example in 10 throws of a die, 6 appears exactly five times, $n=10, k=5, p=1/6$"
   ]
  },
  {
   "cell_type": "code",
   "execution_count": 2,
   "metadata": {
    "collapsed": false
   },
   "outputs": [],
   "source": [
    "\"\"\"Define prod function as a fold\"\"\"\n",
    "from functools import reduce\n",
    "import operator\n",
    "def prod(xs):\n",
    "    return reduce(operator.mul, xs, 1)\n",
    "\n",
    "\"\"\"Define n choose k function without evaluating factorials\"\"\"\n",
    "def nCr(n,k):\n",
    "    t = min(k,n-k)    # to minimize fold operations\n",
    "    if(t==0):\n",
    "        return 1\n",
    "    if(t==1):\n",
    "        return n\n",
    "    if(n<20):\n",
    "        return prod(range(n-t+1,n+1))/prod(range(1,t+1))\n",
    "    else:\n",
    "        return prod([(n-i)/(i+1) for i in range(t)])\n",
    "    \n",
    "\n",
    "def binomProbability(n,k,p):\n",
    "    return nCr(n,k) * pow(p,k) * pow(1-p,n-k)"
   ]
  },
  {
   "cell_type": "markdown",
   "metadata": {},
   "source": [
    "Now armed with the functions we need, we can easily calculate the posed question"
   ]
  },
  {
   "cell_type": "code",
   "execution_count": 39,
   "metadata": {
    "collapsed": false
   },
   "outputs": [
    {
     "name": "stdout",
     "output_type": "stream",
     "text": [
      "0.013023810204237159\n"
     ]
    }
   ],
   "source": [
    "print(binomProbability(10,5,1/6))"
   ]
  },
  {
   "cell_type": "markdown",
   "metadata": {
    "collapsed": true
   },
   "source": [
    "That is, it's around 1%. Since the difficult part is done, we can generate the probability distribution for all values of $k$"
   ]
  },
  {
   "cell_type": "code",
   "execution_count": 8,
   "metadata": {
    "collapsed": false
   },
   "outputs": [
    {
     "name": "stdout",
     "output_type": "stream",
     "text": [
      "0 0.1615055828898458\n",
      "1 0.3230111657796916\n",
      "2 0.2907100492017224\n",
      "3 0.15504535957425192\n",
      "4 0.05426587585098817\n",
      "5 0.013023810204237159\n",
      "6 0.002170635034039526\n",
      "7 0.00024807257531880297\n",
      "8 1.860544314891022e-05\n",
      "9 8.269085843960098e-07\n",
      "10 1.6538171687920194e-08\n"
     ]
    }
   ],
   "source": [
    "numOfThrows=10\n",
    "p=1/6\n",
    "for i in range(numOfThrows+1):\n",
    "    print(i,binomProbability(numOfThrows,i,p))    # i iterates over 0..9"
   ]
  },
  {
   "cell_type": "markdown",
   "metadata": {},
   "source": [
    "The probability of getting exactly one 6 is almost 1/3. Perhaps will be more useful if we can show as a diagram.  But before, let's double check that all probabilities add up to 1.\n"
   ]
  },
  {
   "cell_type": "code",
   "execution_count": 11,
   "metadata": {
    "collapsed": false
   },
   "outputs": [],
   "source": [
    "eps=1E-10\n",
    "values=range(numOfThrows+1)\n",
    "distr=[binomProbability(numOfThrows,i,p) for i in values]\n",
    "assert(abs(1-sum(distr))<eps)"
   ]
  },
  {
   "cell_type": "code",
   "execution_count": 12,
   "metadata": {
    "collapsed": true
   },
   "outputs": [],
   "source": [
    "import matplotlib\n",
    "import matplotlib.pyplot as plt"
   ]
  },
  {
   "cell_type": "code",
   "execution_count": 16,
   "metadata": {
    "collapsed": true
   },
   "outputs": [],
   "source": [
    "%matplotlib inline"
   ]
  },
  {
   "cell_type": "code",
   "execution_count": 13,
   "metadata": {
    "collapsed": true
   },
   "outputs": [],
   "source": [
    "import numpy as np"
   ]
  },
  {
   "cell_type": "code",
   "execution_count": null,
   "metadata": {
    "collapsed": false
   },
   "outputs": [],
   "source": []
  },
  {
   "cell_type": "code",
   "execution_count": 18,
   "metadata": {
    "collapsed": false
   },
   "outputs": [
    {
     "data": {
      "image/png": "[encoded data removed]",
      "text/plain": [
       "<matplotlib.figure.Figure at 0x7664ac8>"
      ]
     },
     "metadata": {},
     "output_type": "display_data"
    }
   ],
   "source": [
    "fig = plt.figure()\n",
    "N=100;\n",
    "axes = fig.add_axes([-0.1, -0.1, 0.8, 0.8])\n",
    "values=range(N+1)\n",
    "distr=[binomProbability(N,i,p) for i in values]\n",
    "\n",
    "axes.plot(list(values), distr, 'ro')\n",
    "\n",
    "axes.set_xlabel('x')\n",
    "axes.set_ylabel('y')\n",
    "axes.set_title('title');"
   ]
  },
  {
   "cell_type": "code",
   "execution_count": 46,
   "metadata": {
    "collapsed": true
   },
   "outputs": [],
   "source": [
    "def exponentialProbability(k,lam):\n",
    "    return pow(lam,k)/prod(range(1,k+1))*exp(-lam)"
   ]
  },
  {
   "cell_type": "code",
   "execution_count": 47,
   "metadata": {
    "collapsed": false
   },
   "outputs": [
    {
     "data": {
      "text/plain": [
       "1.0137771196302974e-07"
      ]
     },
     "execution_count": 47,
     "metadata": {},
     "output_type": "execute_result"
    }
   ],
   "source": [
    "exponentialProbability(10,1)"
   ]
  },
  {
   "cell_type": "code",
   "execution_count": 49,
   "metadata": {
    "collapsed": false
   },
   "outputs": [
    {
     "data": {
      "text/plain": [
       "[<matplotlib.lines.Line2D at 0x763b910>]"
      ]
     },
     "execution_count": 49,
     "metadata": {},
     "output_type": "execute_result"
    },
    {
     "data": {
      "image/png": "[encoded data removed]",
      "text/plain": [
       "<matplotlib.figure.Figure at 0x763bf90>"
      ]
     },
     "metadata": {},
     "output_type": "display_data"
    }
   ],
   "source": [
    "fig = plt.figure()\n",
    "N=100;\n",
    "axes = fig.add_axes([-0.1, -0.1, 0.8, 0.8])\n",
    "values=range(N+1)\n",
    "distr=[exponentialProbability(i,N/6) for i in values]\n",
    "\n",
    "axes.plot(list(values), distr, 'ro')"
   ]
  },
  {
   "cell_type": "markdown",
   "metadata": {},
   "source": [
    "When $N$ is very large, we can define a new variable $\\lambda$ as $\\lambda = Np.$ Rewriting the Binomial Distribution in terms of $\\lambda$.\n",
    "\n",
    "\\begin{align}\n",
    "P(\\#=k) & = {n \\choose k} (\\frac\\lambda{n})^k (1-\\frac\\lambda{n})^{n-k} \\\\\n",
    "        & = {n \\choose k} \\frac{\\lambda^k}{n^k} (1-\\frac\\lambda{n})^n (1-\\frac\\lambda{n})^{-k} \\\\\n",
    "        & = \\frac{n(n-1) \\dots (n-k+1)}{k!} \\frac{\\lambda^k}{n^k} (1-\\frac\\lambda{n})^n (1-\\frac\\lambda{n})^{-k} \\\\\n",
    "        & = \\frac{n(n-1) \\dots (n-k+1)}{n^k} (1-\\frac\\lambda{n})^{-k} \\frac{\\lambda^k}{k!} (1-\\frac\\lambda{n})^n  \\\\\n",
    "\\end{align}\n",
    "\n",
    "With $n \\to \\infty$ first two terms will be unity and last term is $e^{-\\lambda}$\n",
    "\n",
    "\\begin{align}\n",
    "P(\\#=k) & = \\frac{\\lambda^k}{k!} e^{-\\lambda}  \\\\\n",
    "\\end{align}"
   ]
  },
  {
   "cell_type": "code",
   "execution_count": null,
   "metadata": {
    "collapsed": true
   },
   "outputs": [],
   "source": []
  }
 ],
 "metadata": {
  "kernelspec": {
   "display_name": "Python 3",
   "language": "python",
   "name": "python3"
  },
  "language_info": {
   "codemirror_mode": {
    "name": "ipython",
    "version": 3
   },
   "file_extension": ".py",
   "mimetype": "text/x-python",
   "name": "python",
   "nbconvert_exporter": "python",
   "pygments_lexer": "ipython3",
   "version": "3.5.1"
  }
 },
 "nbformat": 4,
 "nbformat_minor": 0
}
